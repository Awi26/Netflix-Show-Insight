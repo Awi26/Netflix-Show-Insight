{
 "cells": [
  {
   "cell_type": "markdown",
   "id": "2ba0f404",
   "metadata": {},
   "source": [
    "# >>> INTRODUCTION <<<"
   ]
  },
  {
   "cell_type": "markdown",
   "id": "28e49057",
   "metadata": {},
   "source": [
    "HELLO THERE, THIS IS MY FIRST PROJECT USING PYTHON. THIS PROJECT IS ABOUT ANALYZING NETFLIX MOVIE AND TV SHOW DATA. I GOT THE DATASET FROM KAGGLE. \n",
    "SO, IN THIS PROJECT I WILL FIGURE OUT:\n",
    "1) PERCENTAGE TYPE OF SHOW\n",
    "2) NUMBER OF TITLE BY RELEASE YEAR OF YEAR 2000 AND MORE\n",
    "3) TOP 5 MOVIES HAVE A LONGEST DURATION\n",
    "4) TOP 5 TV SHOWS HAVE A MOST SEASON"
   ]
  },
  {
   "cell_type": "markdown",
   "id": "3290bef1",
   "metadata": {},
   "source": [
    "# >>> DATA IMPORTING <<<"
   ]
  },
  {
   "cell_type": "code",
   "execution_count": 8,
   "id": "5b65f201",
   "metadata": {},
   "outputs": [],
   "source": [
    "import pandas as pd\n",
    "import numpy as np\n",
    "import matplotlib.pyplot as plt\n",
    "import seaborn as sns"
   ]
  },
  {
   "cell_type": "code",
   "execution_count": 9,
   "id": "935a0e8d",
   "metadata": {},
   "outputs": [],
   "source": [
    "import os"
   ]
  },
  {
   "cell_type": "code",
   "execution_count": 10,
   "id": "d71b026f",
   "metadata": {
    "scrolled": true
   },
   "outputs": [
    {
     "data": {
      "text/plain": [
       "['DAMC-Friday-10 March.mp4',\n",
       " 'DAMC-Friday-17 March.mp4',\n",
       " 'DAMC-Thursday-16 March.mp4',\n",
       " 'DAMC-Thursday-9 March.mp4',\n",
       " 'DAMC-Tuesday-14 March.mp4',\n",
       " 'DAMC-Tuesday-7 March.mp4',\n",
       " 'DAMC-Wednesday-15 March.mp4',\n",
       " 'DAMC-Wednesday-8 March.mp4',\n",
       " 'netflix data.xlsx',\n",
       " 'netflix_titles.csv',\n",
       " 'netflix_titles.csv.zip']"
      ]
     },
     "execution_count": 10,
     "metadata": {},
     "output_type": "execute_result"
    }
   ],
   "source": [
    "os.listdir(r\"D:\\DATA SCIENTIST BISMILLAH\\revoU\")"
   ]
  },
  {
   "cell_type": "code",
   "execution_count": 11,
   "id": "0d2bc158",
   "metadata": {},
   "outputs": [],
   "source": [
    "netflix_file = pd.read_csv(r\"D:\\DATA SCIENTIST BISMILLAH\\revoU/netflix_titles.csv\")"
   ]
  },
  {
   "cell_type": "markdown",
   "id": "00f192bf",
   "metadata": {},
   "source": [
    "# >>> DATA EXPLORING AND CLEANING <<<"
   ]
  },
  {
   "cell_type": "code",
   "execution_count": 12,
   "id": "bb7f2786",
   "metadata": {},
   "outputs": [
    {
     "name": "stdout",
     "output_type": "stream",
     "text": [
      "<class 'pandas.core.frame.DataFrame'>\n",
      "RangeIndex: 8807 entries, 0 to 8806\n",
      "Data columns (total 12 columns):\n",
      " #   Column        Non-Null Count  Dtype \n",
      "---  ------        --------------  ----- \n",
      " 0   show_id       8807 non-null   object\n",
      " 1   type          8807 non-null   object\n",
      " 2   title         8807 non-null   object\n",
      " 3   director      6173 non-null   object\n",
      " 4   cast          7982 non-null   object\n",
      " 5   country       7976 non-null   object\n",
      " 6   date_added    8797 non-null   object\n",
      " 7   release_year  8807 non-null   int64 \n",
      " 8   rating        8803 non-null   object\n",
      " 9   duration      8804 non-null   object\n",
      " 10  listed_in     8807 non-null   object\n",
      " 11  description   8807 non-null   object\n",
      "dtypes: int64(1), object(11)\n",
      "memory usage: 825.8+ KB\n"
     ]
    }
   ],
   "source": [
    "netflix_file.info()"
   ]
  },
  {
   "cell_type": "code",
   "execution_count": 13,
   "id": "965933b1",
   "metadata": {},
   "outputs": [
    {
     "data": {
      "text/html": [
       "<div>\n",
       "<style scoped>\n",
       "    .dataframe tbody tr th:only-of-type {\n",
       "        vertical-align: middle;\n",
       "    }\n",
       "\n",
       "    .dataframe tbody tr th {\n",
       "        vertical-align: top;\n",
       "    }\n",
       "\n",
       "    .dataframe thead th {\n",
       "        text-align: right;\n",
       "    }\n",
       "</style>\n",
       "<table border=\"1\" class=\"dataframe\">\n",
       "  <thead>\n",
       "    <tr style=\"text-align: right;\">\n",
       "      <th></th>\n",
       "      <th>show_id</th>\n",
       "      <th>type</th>\n",
       "      <th>title</th>\n",
       "      <th>director</th>\n",
       "      <th>cast</th>\n",
       "      <th>country</th>\n",
       "      <th>date_added</th>\n",
       "      <th>release_year</th>\n",
       "      <th>rating</th>\n",
       "      <th>duration</th>\n",
       "      <th>listed_in</th>\n",
       "      <th>description</th>\n",
       "    </tr>\n",
       "  </thead>\n",
       "  <tbody>\n",
       "    <tr>\n",
       "      <th>0</th>\n",
       "      <td>s1</td>\n",
       "      <td>Movie</td>\n",
       "      <td>Dick Johnson Is Dead</td>\n",
       "      <td>Kirsten Johnson</td>\n",
       "      <td>NaN</td>\n",
       "      <td>United States</td>\n",
       "      <td>September 25, 2021</td>\n",
       "      <td>2020</td>\n",
       "      <td>PG-13</td>\n",
       "      <td>90 min</td>\n",
       "      <td>Documentaries</td>\n",
       "      <td>As her father nears the end of his life, filmm...</td>\n",
       "    </tr>\n",
       "    <tr>\n",
       "      <th>1</th>\n",
       "      <td>s2</td>\n",
       "      <td>TV Show</td>\n",
       "      <td>Blood &amp; Water</td>\n",
       "      <td>NaN</td>\n",
       "      <td>Ama Qamata, Khosi Ngema, Gail Mabalane, Thaban...</td>\n",
       "      <td>South Africa</td>\n",
       "      <td>September 24, 2021</td>\n",
       "      <td>2021</td>\n",
       "      <td>TV-MA</td>\n",
       "      <td>2 Seasons</td>\n",
       "      <td>International TV Shows, TV Dramas, TV Mysteries</td>\n",
       "      <td>After crossing paths at a party, a Cape Town t...</td>\n",
       "    </tr>\n",
       "    <tr>\n",
       "      <th>2</th>\n",
       "      <td>s3</td>\n",
       "      <td>TV Show</td>\n",
       "      <td>Ganglands</td>\n",
       "      <td>Julien Leclercq</td>\n",
       "      <td>Sami Bouajila, Tracy Gotoas, Samuel Jouy, Nabi...</td>\n",
       "      <td>NaN</td>\n",
       "      <td>September 24, 2021</td>\n",
       "      <td>2021</td>\n",
       "      <td>TV-MA</td>\n",
       "      <td>1 Season</td>\n",
       "      <td>Crime TV Shows, International TV Shows, TV Act...</td>\n",
       "      <td>To protect his family from a powerful drug lor...</td>\n",
       "    </tr>\n",
       "    <tr>\n",
       "      <th>3</th>\n",
       "      <td>s4</td>\n",
       "      <td>TV Show</td>\n",
       "      <td>Jailbirds New Orleans</td>\n",
       "      <td>NaN</td>\n",
       "      <td>NaN</td>\n",
       "      <td>NaN</td>\n",
       "      <td>September 24, 2021</td>\n",
       "      <td>2021</td>\n",
       "      <td>TV-MA</td>\n",
       "      <td>1 Season</td>\n",
       "      <td>Docuseries, Reality TV</td>\n",
       "      <td>Feuds, flirtations and toilet talk go down amo...</td>\n",
       "    </tr>\n",
       "    <tr>\n",
       "      <th>4</th>\n",
       "      <td>s5</td>\n",
       "      <td>TV Show</td>\n",
       "      <td>Kota Factory</td>\n",
       "      <td>NaN</td>\n",
       "      <td>Mayur More, Jitendra Kumar, Ranjan Raj, Alam K...</td>\n",
       "      <td>India</td>\n",
       "      <td>September 24, 2021</td>\n",
       "      <td>2021</td>\n",
       "      <td>TV-MA</td>\n",
       "      <td>2 Seasons</td>\n",
       "      <td>International TV Shows, Romantic TV Shows, TV ...</td>\n",
       "      <td>In a city of coaching centers known to train I...</td>\n",
       "    </tr>\n",
       "  </tbody>\n",
       "</table>\n",
       "</div>"
      ],
      "text/plain": [
       "  show_id     type                  title         director  \\\n",
       "0      s1    Movie   Dick Johnson Is Dead  Kirsten Johnson   \n",
       "1      s2  TV Show          Blood & Water              NaN   \n",
       "2      s3  TV Show              Ganglands  Julien Leclercq   \n",
       "3      s4  TV Show  Jailbirds New Orleans              NaN   \n",
       "4      s5  TV Show           Kota Factory              NaN   \n",
       "\n",
       "                                                cast        country  \\\n",
       "0                                                NaN  United States   \n",
       "1  Ama Qamata, Khosi Ngema, Gail Mabalane, Thaban...   South Africa   \n",
       "2  Sami Bouajila, Tracy Gotoas, Samuel Jouy, Nabi...            NaN   \n",
       "3                                                NaN            NaN   \n",
       "4  Mayur More, Jitendra Kumar, Ranjan Raj, Alam K...          India   \n",
       "\n",
       "           date_added  release_year rating   duration  \\\n",
       "0  September 25, 2021          2020  PG-13     90 min   \n",
       "1  September 24, 2021          2021  TV-MA  2 Seasons   \n",
       "2  September 24, 2021          2021  TV-MA   1 Season   \n",
       "3  September 24, 2021          2021  TV-MA   1 Season   \n",
       "4  September 24, 2021          2021  TV-MA  2 Seasons   \n",
       "\n",
       "                                           listed_in  \\\n",
       "0                                      Documentaries   \n",
       "1    International TV Shows, TV Dramas, TV Mysteries   \n",
       "2  Crime TV Shows, International TV Shows, TV Act...   \n",
       "3                             Docuseries, Reality TV   \n",
       "4  International TV Shows, Romantic TV Shows, TV ...   \n",
       "\n",
       "                                         description  \n",
       "0  As her father nears the end of his life, filmm...  \n",
       "1  After crossing paths at a party, a Cape Town t...  \n",
       "2  To protect his family from a powerful drug lor...  \n",
       "3  Feuds, flirtations and toilet talk go down amo...  \n",
       "4  In a city of coaching centers known to train I...  "
      ]
     },
     "execution_count": 13,
     "metadata": {},
     "output_type": "execute_result"
    }
   ],
   "source": [
    "netflix_file.head()"
   ]
  },
  {
   "cell_type": "code",
   "execution_count": 14,
   "id": "b9c3e528",
   "metadata": {},
   "outputs": [],
   "source": [
    "# Checking the null and duplicate data"
   ]
  },
  {
   "cell_type": "code",
   "execution_count": 15,
   "id": "f9b4fc96",
   "metadata": {},
   "outputs": [
    {
     "data": {
      "text/plain": [
       "0"
      ]
     },
     "execution_count": 15,
     "metadata": {},
     "output_type": "execute_result"
    }
   ],
   "source": [
    "netflix_file.duplicated().sum()"
   ]
  },
  {
   "cell_type": "code",
   "execution_count": 16,
   "id": "38d63a8a",
   "metadata": {},
   "outputs": [
    {
     "data": {
      "text/plain": [
       "show_id            0\n",
       "type               0\n",
       "title              0\n",
       "director        2634\n",
       "cast             825\n",
       "country          831\n",
       "date_added        10\n",
       "release_year       0\n",
       "rating             4\n",
       "duration           3\n",
       "listed_in          0\n",
       "description        0\n",
       "dtype: int64"
      ]
     },
     "execution_count": 16,
     "metadata": {},
     "output_type": "execute_result"
    }
   ],
   "source": [
    "netflix_file.isnull().sum()"
   ]
  },
  {
   "cell_type": "code",
   "execution_count": 17,
   "id": "b46efec4",
   "metadata": {},
   "outputs": [],
   "source": [
    "#Drop the data that has a missing value\n",
    "netflix_file= netflix_file.dropna(subset = [\"duration\"])\n",
    "netflix_file= netflix_file.dropna(subset = [\"date_added\"])\n",
    "netflix_file= netflix_file.dropna(subset = [\"rating\"])"
   ]
  },
  {
   "cell_type": "code",
   "execution_count": 18,
   "id": "5ce2e86f",
   "metadata": {},
   "outputs": [
    {
     "data": {
      "text/plain": [
       "show_id            0\n",
       "type               0\n",
       "title              0\n",
       "director        2621\n",
       "cast             825\n",
       "country          829\n",
       "date_added         0\n",
       "release_year       0\n",
       "rating             0\n",
       "duration           0\n",
       "listed_in          0\n",
       "description        0\n",
       "dtype: int64"
      ]
     },
     "execution_count": 18,
     "metadata": {},
     "output_type": "execute_result"
    }
   ],
   "source": [
    "#Check it again to make sure the row is deleted\n",
    "netflix_file.isnull().sum()"
   ]
  },
  {
   "cell_type": "code",
   "execution_count": 19,
   "id": "f5f827fe",
   "metadata": {},
   "outputs": [
    {
     "data": {
      "text/plain": [
       "(8790, 12)"
      ]
     },
     "execution_count": 19,
     "metadata": {},
     "output_type": "execute_result"
    }
   ],
   "source": [
    "netflix_file.shape"
   ]
  },
  {
   "cell_type": "code",
   "execution_count": 20,
   "id": "45a37ea4",
   "metadata": {},
   "outputs": [],
   "source": [
    "#Convert the string type of data time to datetime type\n",
    "netflix_file['date_added']=pd.to_datetime(netflix_file['date_added'])"
   ]
  },
  {
   "cell_type": "code",
   "execution_count": 21,
   "id": "f692aae6",
   "metadata": {},
   "outputs": [],
   "source": [
    "#Convert object to categorical data\n",
    "netflix_file['type'] = netflix_file['type'].astype('category')"
   ]
  },
  {
   "cell_type": "code",
   "execution_count": 22,
   "id": "59b13608",
   "metadata": {
    "scrolled": false
   },
   "outputs": [
    {
     "data": {
      "text/plain": [
       "0       2021\n",
       "1       2021\n",
       "2       2021\n",
       "3       2021\n",
       "4       2021\n",
       "        ... \n",
       "8802    2019\n",
       "8803    2019\n",
       "8804    2019\n",
       "8805    2020\n",
       "8806    2019\n",
       "Name: year_added, Length: 8790, dtype: int64"
      ]
     },
     "execution_count": 22,
     "metadata": {},
     "output_type": "execute_result"
    }
   ],
   "source": [
    "#access the year of datetime of \"date added\" column and add to a new column named \"year_added\"\n",
    "netflix_file['year_added'] = netflix_file['date_added'].dt.year\n",
    "netflix_file['year_added']"
   ]
  },
  {
   "cell_type": "code",
   "execution_count": 23,
   "id": "591b69d0",
   "metadata": {},
   "outputs": [
    {
     "data": {
      "text/plain": [
       "str"
      ]
     },
     "execution_count": 23,
     "metadata": {},
     "output_type": "execute_result"
    }
   ],
   "source": [
    "#Check the type of column duration, try to see the first row\n",
    "type(netflix_file[\"duration\"][0])"
   ]
  },
  {
   "cell_type": "code",
   "execution_count": 24,
   "id": "dfeec4a0",
   "metadata": {},
   "outputs": [],
   "source": [
    "#Strip/delete the string \"min, Season, Seasons\" in the colomn 'duration' then add to a variable named 'duration_trim'"
   ]
  },
  {
   "cell_type": "code",
   "execution_count": 25,
   "id": "c18ca231",
   "metadata": {},
   "outputs": [],
   "source": [
    "#Because the 'duration' type is already a string dtype, so we can use the strip method to delete those words and store it to a variable named 'duration_trim'"
   ]
  },
  {
   "cell_type": "code",
   "execution_count": 26,
   "id": "ec417640",
   "metadata": {},
   "outputs": [],
   "source": [
    "netflix_file['duration_trim'] = netflix_file['duration'].str.strip(\" min\")\n",
    "netflix_file['duration_trim'] = netflix_file['duration_trim'].str.strip(\" Season\")\n",
    "netflix_file['duration_trim'] = netflix_file['duration_trim'].str.strip(\" Season\")"
   ]
  },
  {
   "cell_type": "code",
   "execution_count": 27,
   "id": "19b4e38f",
   "metadata": {},
   "outputs": [
    {
     "data": {
      "text/html": [
       "<div>\n",
       "<style scoped>\n",
       "    .dataframe tbody tr th:only-of-type {\n",
       "        vertical-align: middle;\n",
       "    }\n",
       "\n",
       "    .dataframe tbody tr th {\n",
       "        vertical-align: top;\n",
       "    }\n",
       "\n",
       "    .dataframe thead th {\n",
       "        text-align: right;\n",
       "    }\n",
       "</style>\n",
       "<table border=\"1\" class=\"dataframe\">\n",
       "  <thead>\n",
       "    <tr style=\"text-align: right;\">\n",
       "      <th></th>\n",
       "      <th>show_id</th>\n",
       "      <th>type</th>\n",
       "      <th>title</th>\n",
       "      <th>director</th>\n",
       "      <th>cast</th>\n",
       "      <th>country</th>\n",
       "      <th>date_added</th>\n",
       "      <th>release_year</th>\n",
       "      <th>rating</th>\n",
       "      <th>duration</th>\n",
       "      <th>listed_in</th>\n",
       "      <th>description</th>\n",
       "      <th>year_added</th>\n",
       "      <th>duration_trim</th>\n",
       "    </tr>\n",
       "  </thead>\n",
       "  <tbody>\n",
       "    <tr>\n",
       "      <th>8797</th>\n",
       "      <td>s8798</td>\n",
       "      <td>TV Show</td>\n",
       "      <td>Zak Storm</td>\n",
       "      <td>NaN</td>\n",
       "      <td>Michael Johnston, Jessica Gee-George, Christin...</td>\n",
       "      <td>United States, France, South Korea, Indonesia</td>\n",
       "      <td>2018-09-13</td>\n",
       "      <td>2016</td>\n",
       "      <td>TV-Y7</td>\n",
       "      <td>3 Seasons</td>\n",
       "      <td>Kids' TV</td>\n",
       "      <td>Teen surfer Zak Storm is mysteriously transpor...</td>\n",
       "      <td>2018</td>\n",
       "      <td>3</td>\n",
       "    </tr>\n",
       "    <tr>\n",
       "      <th>8798</th>\n",
       "      <td>s8799</td>\n",
       "      <td>Movie</td>\n",
       "      <td>Zed Plus</td>\n",
       "      <td>Chandra Prakash Dwivedi</td>\n",
       "      <td>Adil Hussain, Mona Singh, K.K. Raina, Sanjay M...</td>\n",
       "      <td>India</td>\n",
       "      <td>2019-12-31</td>\n",
       "      <td>2014</td>\n",
       "      <td>TV-MA</td>\n",
       "      <td>131 min</td>\n",
       "      <td>Comedies, Dramas, International Movies</td>\n",
       "      <td>A philandering small-town mechanic's political...</td>\n",
       "      <td>2019</td>\n",
       "      <td>131</td>\n",
       "    </tr>\n",
       "    <tr>\n",
       "      <th>8799</th>\n",
       "      <td>s8800</td>\n",
       "      <td>Movie</td>\n",
       "      <td>Zenda</td>\n",
       "      <td>Avadhoot Gupte</td>\n",
       "      <td>Santosh Juvekar, Siddharth Chandekar, Sachit P...</td>\n",
       "      <td>India</td>\n",
       "      <td>2018-02-15</td>\n",
       "      <td>2009</td>\n",
       "      <td>TV-14</td>\n",
       "      <td>120 min</td>\n",
       "      <td>Dramas, International Movies</td>\n",
       "      <td>A change in the leadership of a political part...</td>\n",
       "      <td>2018</td>\n",
       "      <td>120</td>\n",
       "    </tr>\n",
       "    <tr>\n",
       "      <th>8800</th>\n",
       "      <td>s8801</td>\n",
       "      <td>TV Show</td>\n",
       "      <td>Zindagi Gulzar Hai</td>\n",
       "      <td>NaN</td>\n",
       "      <td>Sanam Saeed, Fawad Khan, Ayesha Omer, Mehreen ...</td>\n",
       "      <td>Pakistan</td>\n",
       "      <td>2016-12-15</td>\n",
       "      <td>2012</td>\n",
       "      <td>TV-PG</td>\n",
       "      <td>1 Season</td>\n",
       "      <td>International TV Shows, Romantic TV Shows, TV ...</td>\n",
       "      <td>Strong-willed, middle-class Kashaf and carefre...</td>\n",
       "      <td>2016</td>\n",
       "      <td>1</td>\n",
       "    </tr>\n",
       "    <tr>\n",
       "      <th>8801</th>\n",
       "      <td>s8802</td>\n",
       "      <td>Movie</td>\n",
       "      <td>Zinzana</td>\n",
       "      <td>Majid Al Ansari</td>\n",
       "      <td>Ali Suliman, Saleh Bakri, Yasa, Ali Al-Jabri, ...</td>\n",
       "      <td>United Arab Emirates, Jordan</td>\n",
       "      <td>2016-03-09</td>\n",
       "      <td>2015</td>\n",
       "      <td>TV-MA</td>\n",
       "      <td>96 min</td>\n",
       "      <td>Dramas, International Movies, Thrillers</td>\n",
       "      <td>Recovering alcoholic Talal wakes up inside a s...</td>\n",
       "      <td>2016</td>\n",
       "      <td>96</td>\n",
       "    </tr>\n",
       "    <tr>\n",
       "      <th>8802</th>\n",
       "      <td>s8803</td>\n",
       "      <td>Movie</td>\n",
       "      <td>Zodiac</td>\n",
       "      <td>David Fincher</td>\n",
       "      <td>Mark Ruffalo, Jake Gyllenhaal, Robert Downey J...</td>\n",
       "      <td>United States</td>\n",
       "      <td>2019-11-20</td>\n",
       "      <td>2007</td>\n",
       "      <td>R</td>\n",
       "      <td>158 min</td>\n",
       "      <td>Cult Movies, Dramas, Thrillers</td>\n",
       "      <td>A political cartoonist, a crime reporter and a...</td>\n",
       "      <td>2019</td>\n",
       "      <td>158</td>\n",
       "    </tr>\n",
       "    <tr>\n",
       "      <th>8803</th>\n",
       "      <td>s8804</td>\n",
       "      <td>TV Show</td>\n",
       "      <td>Zombie Dumb</td>\n",
       "      <td>NaN</td>\n",
       "      <td>NaN</td>\n",
       "      <td>NaN</td>\n",
       "      <td>2019-07-01</td>\n",
       "      <td>2018</td>\n",
       "      <td>TV-Y7</td>\n",
       "      <td>2 Seasons</td>\n",
       "      <td>Kids' TV, Korean TV Shows, TV Comedies</td>\n",
       "      <td>While living alone in a spooky town, a young g...</td>\n",
       "      <td>2019</td>\n",
       "      <td>2</td>\n",
       "    </tr>\n",
       "    <tr>\n",
       "      <th>8804</th>\n",
       "      <td>s8805</td>\n",
       "      <td>Movie</td>\n",
       "      <td>Zombieland</td>\n",
       "      <td>Ruben Fleischer</td>\n",
       "      <td>Jesse Eisenberg, Woody Harrelson, Emma Stone, ...</td>\n",
       "      <td>United States</td>\n",
       "      <td>2019-11-01</td>\n",
       "      <td>2009</td>\n",
       "      <td>R</td>\n",
       "      <td>88 min</td>\n",
       "      <td>Comedies, Horror Movies</td>\n",
       "      <td>Looking to survive in a world taken over by zo...</td>\n",
       "      <td>2019</td>\n",
       "      <td>88</td>\n",
       "    </tr>\n",
       "    <tr>\n",
       "      <th>8805</th>\n",
       "      <td>s8806</td>\n",
       "      <td>Movie</td>\n",
       "      <td>Zoom</td>\n",
       "      <td>Peter Hewitt</td>\n",
       "      <td>Tim Allen, Courteney Cox, Chevy Chase, Kate Ma...</td>\n",
       "      <td>United States</td>\n",
       "      <td>2020-01-11</td>\n",
       "      <td>2006</td>\n",
       "      <td>PG</td>\n",
       "      <td>88 min</td>\n",
       "      <td>Children &amp; Family Movies, Comedies</td>\n",
       "      <td>Dragged from civilian life, a former superhero...</td>\n",
       "      <td>2020</td>\n",
       "      <td>88</td>\n",
       "    </tr>\n",
       "    <tr>\n",
       "      <th>8806</th>\n",
       "      <td>s8807</td>\n",
       "      <td>Movie</td>\n",
       "      <td>Zubaan</td>\n",
       "      <td>Mozez Singh</td>\n",
       "      <td>Vicky Kaushal, Sarah-Jane Dias, Raaghav Chanan...</td>\n",
       "      <td>India</td>\n",
       "      <td>2019-03-02</td>\n",
       "      <td>2015</td>\n",
       "      <td>TV-14</td>\n",
       "      <td>111 min</td>\n",
       "      <td>Dramas, International Movies, Music &amp; Musicals</td>\n",
       "      <td>A scrappy but poor boy worms his way into a ty...</td>\n",
       "      <td>2019</td>\n",
       "      <td>111</td>\n",
       "    </tr>\n",
       "  </tbody>\n",
       "</table>\n",
       "</div>"
      ],
      "text/plain": [
       "     show_id     type               title                 director  \\\n",
       "8797   s8798  TV Show           Zak Storm                      NaN   \n",
       "8798   s8799    Movie            Zed Plus  Chandra Prakash Dwivedi   \n",
       "8799   s8800    Movie               Zenda           Avadhoot Gupte   \n",
       "8800   s8801  TV Show  Zindagi Gulzar Hai                      NaN   \n",
       "8801   s8802    Movie             Zinzana          Majid Al Ansari   \n",
       "8802   s8803    Movie              Zodiac            David Fincher   \n",
       "8803   s8804  TV Show         Zombie Dumb                      NaN   \n",
       "8804   s8805    Movie          Zombieland          Ruben Fleischer   \n",
       "8805   s8806    Movie                Zoom             Peter Hewitt   \n",
       "8806   s8807    Movie              Zubaan              Mozez Singh   \n",
       "\n",
       "                                                   cast  \\\n",
       "8797  Michael Johnston, Jessica Gee-George, Christin...   \n",
       "8798  Adil Hussain, Mona Singh, K.K. Raina, Sanjay M...   \n",
       "8799  Santosh Juvekar, Siddharth Chandekar, Sachit P...   \n",
       "8800  Sanam Saeed, Fawad Khan, Ayesha Omer, Mehreen ...   \n",
       "8801  Ali Suliman, Saleh Bakri, Yasa, Ali Al-Jabri, ...   \n",
       "8802  Mark Ruffalo, Jake Gyllenhaal, Robert Downey J...   \n",
       "8803                                                NaN   \n",
       "8804  Jesse Eisenberg, Woody Harrelson, Emma Stone, ...   \n",
       "8805  Tim Allen, Courteney Cox, Chevy Chase, Kate Ma...   \n",
       "8806  Vicky Kaushal, Sarah-Jane Dias, Raaghav Chanan...   \n",
       "\n",
       "                                            country date_added  release_year  \\\n",
       "8797  United States, France, South Korea, Indonesia 2018-09-13          2016   \n",
       "8798                                          India 2019-12-31          2014   \n",
       "8799                                          India 2018-02-15          2009   \n",
       "8800                                       Pakistan 2016-12-15          2012   \n",
       "8801                   United Arab Emirates, Jordan 2016-03-09          2015   \n",
       "8802                                  United States 2019-11-20          2007   \n",
       "8803                                            NaN 2019-07-01          2018   \n",
       "8804                                  United States 2019-11-01          2009   \n",
       "8805                                  United States 2020-01-11          2006   \n",
       "8806                                          India 2019-03-02          2015   \n",
       "\n",
       "     rating   duration                                          listed_in  \\\n",
       "8797  TV-Y7  3 Seasons                                           Kids' TV   \n",
       "8798  TV-MA    131 min             Comedies, Dramas, International Movies   \n",
       "8799  TV-14    120 min                       Dramas, International Movies   \n",
       "8800  TV-PG   1 Season  International TV Shows, Romantic TV Shows, TV ...   \n",
       "8801  TV-MA     96 min            Dramas, International Movies, Thrillers   \n",
       "8802      R    158 min                     Cult Movies, Dramas, Thrillers   \n",
       "8803  TV-Y7  2 Seasons             Kids' TV, Korean TV Shows, TV Comedies   \n",
       "8804      R     88 min                            Comedies, Horror Movies   \n",
       "8805     PG     88 min                 Children & Family Movies, Comedies   \n",
       "8806  TV-14    111 min     Dramas, International Movies, Music & Musicals   \n",
       "\n",
       "                                            description  year_added  \\\n",
       "8797  Teen surfer Zak Storm is mysteriously transpor...        2018   \n",
       "8798  A philandering small-town mechanic's political...        2019   \n",
       "8799  A change in the leadership of a political part...        2018   \n",
       "8800  Strong-willed, middle-class Kashaf and carefre...        2016   \n",
       "8801  Recovering alcoholic Talal wakes up inside a s...        2016   \n",
       "8802  A political cartoonist, a crime reporter and a...        2019   \n",
       "8803  While living alone in a spooky town, a young g...        2019   \n",
       "8804  Looking to survive in a world taken over by zo...        2019   \n",
       "8805  Dragged from civilian life, a former superhero...        2020   \n",
       "8806  A scrappy but poor boy worms his way into a ty...        2019   \n",
       "\n",
       "     duration_trim  \n",
       "8797             3  \n",
       "8798           131  \n",
       "8799           120  \n",
       "8800             1  \n",
       "8801            96  \n",
       "8802           158  \n",
       "8803             2  \n",
       "8804            88  \n",
       "8805            88  \n",
       "8806           111  "
      ]
     },
     "execution_count": 27,
     "metadata": {},
     "output_type": "execute_result"
    }
   ],
   "source": [
    "#Checking data\n",
    "\n",
    "netflix_file.tail(10)"
   ]
  },
  {
   "cell_type": "code",
   "execution_count": 28,
   "id": "81a04f22",
   "metadata": {},
   "outputs": [],
   "source": [
    "#Convert column 'duration_trim' as a string type to integer type\n",
    "netflix_file['duration_trim'] = netflix_file['duration_trim'].astype('int')"
   ]
  },
  {
   "cell_type": "code",
   "execution_count": 29,
   "id": "937a59eb",
   "metadata": {},
   "outputs": [
    {
     "name": "stdout",
     "output_type": "stream",
     "text": [
      "<class 'pandas.core.frame.DataFrame'>\n",
      "Int64Index: 8790 entries, 0 to 8806\n",
      "Data columns (total 14 columns):\n",
      " #   Column         Non-Null Count  Dtype         \n",
      "---  ------         --------------  -----         \n",
      " 0   show_id        8790 non-null   object        \n",
      " 1   type           8790 non-null   category      \n",
      " 2   title          8790 non-null   object        \n",
      " 3   director       6169 non-null   object        \n",
      " 4   cast           7965 non-null   object        \n",
      " 5   country        7961 non-null   object        \n",
      " 6   date_added     8790 non-null   datetime64[ns]\n",
      " 7   release_year   8790 non-null   int64         \n",
      " 8   rating         8790 non-null   object        \n",
      " 9   duration       8790 non-null   object        \n",
      " 10  listed_in      8790 non-null   object        \n",
      " 11  description    8790 non-null   object        \n",
      " 12  year_added     8790 non-null   int64         \n",
      " 13  duration_trim  8790 non-null   int32         \n",
      "dtypes: category(1), datetime64[ns](1), int32(1), int64(2), object(9)\n",
      "memory usage: 1.2+ MB\n"
     ]
    }
   ],
   "source": [
    "#Make sure it converted\n",
    "netflix_file.info()"
   ]
  },
  {
   "cell_type": "markdown",
   "id": "63482959",
   "metadata": {},
   "source": [
    "# >>> EDA Exploratory Data Analysis <<<"
   ]
  },
  {
   "cell_type": "markdown",
   "id": "1daf9278",
   "metadata": {},
   "source": [
    "## 1) PERCENTAGE TYPE OF SHOW\n",
    "### HOW MANY PERCENTAGE OF MOVIE VS TV SHOW ?"
   ]
  },
  {
   "cell_type": "code",
   "execution_count": 30,
   "id": "4fd1c61a",
   "metadata": {},
   "outputs": [
    {
     "data": {
      "text/plain": [
       "Movie      6126\n",
       "TV Show    2664\n",
       "Name: type, dtype: int64"
      ]
     },
     "execution_count": 30,
     "metadata": {},
     "output_type": "execute_result"
    }
   ],
   "source": [
    "#PLOTTING BASED ON 2 TYPES OF CATEGORY, so you know the comparison of amount between 'movie' and 'TV show'\n",
    "netflix_file['type'].value_counts()"
   ]
  },
  {
   "cell_type": "code",
   "execution_count": 31,
   "id": "b2f86f18",
   "metadata": {},
   "outputs": [
    {
     "data": {
      "text/plain": [
       "<Axes: ylabel='type'>"
      ]
     },
     "execution_count": 31,
     "metadata": {},
     "output_type": "execute_result"
    },
    {
     "data": {
      "image/png": "[encoded data removed]",
      "text/plain": [
       "<Figure size 640x480 with 1 Axes>"
      ]
     },
     "metadata": {},
     "output_type": "display_data"
    }
   ],
   "source": [
    "netflix_file['type'].value_counts().plot(kind=\"pie\")"
   ]
  },
  {
   "cell_type": "markdown",
   "id": "1f72aeaa",
   "metadata": {},
   "source": [
    "To be honest I still don't know how to put the percentage and values of each TV Show Vs Movie INSIDE THE PIE CHART. I googled it but it seems so complicated OMG!!!!!!!!!!!!!!!!!!!!!!!!!!!!!!!!!!!!!!!!!!\n",
    "So, I will do it manually using my logic instead. hehehehe"
   ]
  },
  {
   "cell_type": "code",
   "execution_count": 32,
   "id": "4b9a0d94",
   "metadata": {},
   "outputs": [],
   "source": [
    "movie_total = 6126\n",
    "tvshow_total = 2664\n",
    "movie_percent = round(movie_total / (movie_total + tvshow_total) *100)\n",
    "tvshow_percent = round(tvshow_total / (movie_total+tvshow_total) *100)"
   ]
  },
  {
   "cell_type": "code",
   "execution_count": 33,
   "id": "d3dc2ed2",
   "metadata": {},
   "outputs": [
    {
     "name": "stdout",
     "output_type": "stream",
     "text": [
      "The percentage of Movie is 70%\n",
      "The percentage of TV Show is 30%\n"
     ]
    }
   ],
   "source": [
    "print(f\"The percentage of Movie is {movie_percent}%\")\n",
    "print(f\"The percentage of TV Show is {tvshow_percent}%\")"
   ]
  },
  {
   "cell_type": "markdown",
   "id": "55af975d",
   "metadata": {},
   "source": [
    "## 2) NUMBER OF TITLE BY RELEASE YEAR OF YEAR 2000 AND MORE \n",
    "### how many title of movies and TV shows released by \"release year\" at year 2000 and more?"
   ]
  },
  {
   "cell_type": "code",
   "execution_count": 34,
   "id": "6fb6b7b4",
   "metadata": {},
   "outputs": [
    {
     "data": {
      "text/html": [
       "<div>\n",
       "<style scoped>\n",
       "    .dataframe tbody tr th:only-of-type {\n",
       "        vertical-align: middle;\n",
       "    }\n",
       "\n",
       "    .dataframe tbody tr th {\n",
       "        vertical-align: top;\n",
       "    }\n",
       "\n",
       "    .dataframe thead th {\n",
       "        text-align: right;\n",
       "    }\n",
       "</style>\n",
       "<table border=\"1\" class=\"dataframe\">\n",
       "  <thead>\n",
       "    <tr style=\"text-align: right;\">\n",
       "      <th></th>\n",
       "      <th>show_id</th>\n",
       "      <th>type</th>\n",
       "      <th>title</th>\n",
       "      <th>director</th>\n",
       "      <th>cast</th>\n",
       "      <th>country</th>\n",
       "      <th>date_added</th>\n",
       "      <th>release_year</th>\n",
       "      <th>rating</th>\n",
       "      <th>duration</th>\n",
       "      <th>listed_in</th>\n",
       "      <th>description</th>\n",
       "      <th>year_added</th>\n",
       "      <th>duration_trim</th>\n",
       "    </tr>\n",
       "  </thead>\n",
       "  <tbody>\n",
       "    <tr>\n",
       "      <th>0</th>\n",
       "      <td>s1</td>\n",
       "      <td>Movie</td>\n",
       "      <td>Dick Johnson Is Dead</td>\n",
       "      <td>Kirsten Johnson</td>\n",
       "      <td>NaN</td>\n",
       "      <td>United States</td>\n",
       "      <td>2021-09-25</td>\n",
       "      <td>2020</td>\n",
       "      <td>PG-13</td>\n",
       "      <td>90 min</td>\n",
       "      <td>Documentaries</td>\n",
       "      <td>As her father nears the end of his life, filmm...</td>\n",
       "      <td>2021</td>\n",
       "      <td>90</td>\n",
       "    </tr>\n",
       "    <tr>\n",
       "      <th>1</th>\n",
       "      <td>s2</td>\n",
       "      <td>TV Show</td>\n",
       "      <td>Blood &amp; Water</td>\n",
       "      <td>NaN</td>\n",
       "      <td>Ama Qamata, Khosi Ngema, Gail Mabalane, Thaban...</td>\n",
       "      <td>South Africa</td>\n",
       "      <td>2021-09-24</td>\n",
       "      <td>2021</td>\n",
       "      <td>TV-MA</td>\n",
       "      <td>2 Seasons</td>\n",
       "      <td>International TV Shows, TV Dramas, TV Mysteries</td>\n",
       "      <td>After crossing paths at a party, a Cape Town t...</td>\n",
       "      <td>2021</td>\n",
       "      <td>2</td>\n",
       "    </tr>\n",
       "    <tr>\n",
       "      <th>2</th>\n",
       "      <td>s3</td>\n",
       "      <td>TV Show</td>\n",
       "      <td>Ganglands</td>\n",
       "      <td>Julien Leclercq</td>\n",
       "      <td>Sami Bouajila, Tracy Gotoas, Samuel Jouy, Nabi...</td>\n",
       "      <td>NaN</td>\n",
       "      <td>2021-09-24</td>\n",
       "      <td>2021</td>\n",
       "      <td>TV-MA</td>\n",
       "      <td>1 Season</td>\n",
       "      <td>Crime TV Shows, International TV Shows, TV Act...</td>\n",
       "      <td>To protect his family from a powerful drug lor...</td>\n",
       "      <td>2021</td>\n",
       "      <td>1</td>\n",
       "    </tr>\n",
       "    <tr>\n",
       "      <th>3</th>\n",
       "      <td>s4</td>\n",
       "      <td>TV Show</td>\n",
       "      <td>Jailbirds New Orleans</td>\n",
       "      <td>NaN</td>\n",
       "      <td>NaN</td>\n",
       "      <td>NaN</td>\n",
       "      <td>2021-09-24</td>\n",
       "      <td>2021</td>\n",
       "      <td>TV-MA</td>\n",
       "      <td>1 Season</td>\n",
       "      <td>Docuseries, Reality TV</td>\n",
       "      <td>Feuds, flirtations and toilet talk go down amo...</td>\n",
       "      <td>2021</td>\n",
       "      <td>1</td>\n",
       "    </tr>\n",
       "    <tr>\n",
       "      <th>4</th>\n",
       "      <td>s5</td>\n",
       "      <td>TV Show</td>\n",
       "      <td>Kota Factory</td>\n",
       "      <td>NaN</td>\n",
       "      <td>Mayur More, Jitendra Kumar, Ranjan Raj, Alam K...</td>\n",
       "      <td>India</td>\n",
       "      <td>2021-09-24</td>\n",
       "      <td>2021</td>\n",
       "      <td>TV-MA</td>\n",
       "      <td>2 Seasons</td>\n",
       "      <td>International TV Shows, Romantic TV Shows, TV ...</td>\n",
       "      <td>In a city of coaching centers known to train I...</td>\n",
       "      <td>2021</td>\n",
       "      <td>2</td>\n",
       "    </tr>\n",
       "  </tbody>\n",
       "</table>\n",
       "</div>"
      ],
      "text/plain": [
       "  show_id     type                  title         director  \\\n",
       "0      s1    Movie   Dick Johnson Is Dead  Kirsten Johnson   \n",
       "1      s2  TV Show          Blood & Water              NaN   \n",
       "2      s3  TV Show              Ganglands  Julien Leclercq   \n",
       "3      s4  TV Show  Jailbirds New Orleans              NaN   \n",
       "4      s5  TV Show           Kota Factory              NaN   \n",
       "\n",
       "                                                cast        country  \\\n",
       "0                                                NaN  United States   \n",
       "1  Ama Qamata, Khosi Ngema, Gail Mabalane, Thaban...   South Africa   \n",
       "2  Sami Bouajila, Tracy Gotoas, Samuel Jouy, Nabi...            NaN   \n",
       "3                                                NaN            NaN   \n",
       "4  Mayur More, Jitendra Kumar, Ranjan Raj, Alam K...          India   \n",
       "\n",
       "  date_added  release_year rating   duration  \\\n",
       "0 2021-09-25          2020  PG-13     90 min   \n",
       "1 2021-09-24          2021  TV-MA  2 Seasons   \n",
       "2 2021-09-24          2021  TV-MA   1 Season   \n",
       "3 2021-09-24          2021  TV-MA   1 Season   \n",
       "4 2021-09-24          2021  TV-MA  2 Seasons   \n",
       "\n",
       "                                           listed_in  \\\n",
       "0                                      Documentaries   \n",
       "1    International TV Shows, TV Dramas, TV Mysteries   \n",
       "2  Crime TV Shows, International TV Shows, TV Act...   \n",
       "3                             Docuseries, Reality TV   \n",
       "4  International TV Shows, Romantic TV Shows, TV ...   \n",
       "\n",
       "                                         description  year_added  \\\n",
       "0  As her father nears the end of his life, filmm...        2021   \n",
       "1  After crossing paths at a party, a Cape Town t...        2021   \n",
       "2  To protect his family from a powerful drug lor...        2021   \n",
       "3  Feuds, flirtations and toilet talk go down amo...        2021   \n",
       "4  In a city of coaching centers known to train I...        2021   \n",
       "\n",
       "   duration_trim  \n",
       "0             90  \n",
       "1              2  \n",
       "2              1  \n",
       "3              1  \n",
       "4              2  "
      ]
     },
     "execution_count": 34,
     "metadata": {},
     "output_type": "execute_result"
    }
   ],
   "source": [
    "netflix_file.head()"
   ]
  },
  {
   "cell_type": "markdown",
   "id": "7b5d4051",
   "metadata": {},
   "source": [
    "HERE I WANT TO MAKE A PIVOT TABLE OR CROSSTAB TO SHOW NUMBER OF SHOW TYPE BASED ON RELEASE YEAR. BUT I WAS SO CONFUSE SO I TRIED SOME WAYS TO GET THERE."
   ]
  },
  {
   "cell_type": "code",
   "execution_count": 35,
   "id": "8ae6f142",
   "metadata": {},
   "outputs": [],
   "source": [
    "#pivot = netflix_file.pivot_table(index =['release_year'], values =['show_id'], aggfunc =sum)\n",
    "#print(pivot)"
   ]
  },
  {
   "cell_type": "code",
   "execution_count": 36,
   "id": "b1d775ae",
   "metadata": {
    "scrolled": true
   },
   "outputs": [],
   "source": [
    "#show_id_list = netflix_file['show_id'].tolist()"
   ]
  },
  {
   "cell_type": "code",
   "execution_count": 37,
   "id": "a0afe1d2",
   "metadata": {},
   "outputs": [],
   "source": [
    "#show_id_list"
   ]
  },
  {
   "cell_type": "code",
   "execution_count": 38,
   "id": "cf4c7392",
   "metadata": {},
   "outputs": [],
   "source": [
    "#pivot = netflix_file.pivot_table(index =['release_year'], values =['release_year'], aggfunc ='sum')\n",
    "#print(pivot)"
   ]
  },
  {
   "cell_type": "code",
   "execution_count": 39,
   "id": "9e5bafe4",
   "metadata": {},
   "outputs": [],
   "source": [
    "#months = np.array([2000, 2001, 2002])\n",
    "#cross = pd.crosstab(months,netflix_file['release_year'],values=None, rownames=['release_year'], colnames=['amount'])"
   ]
  },
  {
   "cell_type": "code",
   "execution_count": 40,
   "id": "6cdf3dbb",
   "metadata": {},
   "outputs": [
    {
     "data": {
      "text/plain": [
       "{1925: 1,\n",
       " 1942: 2,\n",
       " 1943: 3,\n",
       " 1944: 3,\n",
       " 1945: 4,\n",
       " 1946: 2,\n",
       " 1947: 1,\n",
       " 1954: 2,\n",
       " 1955: 3,\n",
       " 1956: 2,\n",
       " 1958: 3,\n",
       " 1959: 1,\n",
       " 1960: 4,\n",
       " 1961: 1,\n",
       " 1962: 3,\n",
       " 1963: 2,\n",
       " 1964: 2,\n",
       " 1965: 2,\n",
       " 1966: 1,\n",
       " 1967: 5,\n",
       " 1968: 3,\n",
       " 1969: 2,\n",
       " 1970: 2,\n",
       " 1971: 5,\n",
       " 1972: 5,\n",
       " 1973: 10,\n",
       " 1974: 7,\n",
       " 1975: 7,\n",
       " 1976: 9,\n",
       " 1977: 7,\n",
       " 1978: 7,\n",
       " 1979: 11,\n",
       " 1980: 11,\n",
       " 1981: 13,\n",
       " 1982: 17,\n",
       " 1983: 11,\n",
       " 1984: 12,\n",
       " 1985: 10,\n",
       " 1986: 13,\n",
       " 1987: 8,\n",
       " 1988: 18,\n",
       " 1989: 16,\n",
       " 1990: 22,\n",
       " 1991: 17,\n",
       " 1992: 23,\n",
       " 1993: 28,\n",
       " 1994: 22,\n",
       " 1995: 25,\n",
       " 1996: 24,\n",
       " 1997: 38,\n",
       " 1998: 36,\n",
       " 1999: 39,\n",
       " 2000: 37,\n",
       " 2001: 45,\n",
       " 2002: 51,\n",
       " 2003: 59,\n",
       " 2004: 64,\n",
       " 2005: 80,\n",
       " 2006: 96,\n",
       " 2007: 88,\n",
       " 2008: 135,\n",
       " 2009: 152,\n",
       " 2010: 192,\n",
       " 2011: 185,\n",
       " 2012: 236,\n",
       " 2013: 286,\n",
       " 2014: 352,\n",
       " 2015: 555,\n",
       " 2016: 901,\n",
       " 2017: 1030,\n",
       " 2018: 1146,\n",
       " 2019: 1030,\n",
       " 2020: 953,\n",
       " 2021: 592}"
      ]
     },
     "execution_count": 40,
     "metadata": {},
     "output_type": "execute_result"
    }
   ],
   "source": [
    "cross=dict(netflix_file.groupby('release_year')['show_id'].count())\n",
    "cross\n",
    "#cross_year = {}\n",
    "#for item in cross.keys():\n",
    "   # if item >= 2000:\n",
    "        #cross_year.append(cross.items())\n",
    "#print(cross_year)"
   ]
  },
  {
   "cell_type": "code",
   "execution_count": null,
   "id": "2eac4adc",
   "metadata": {},
   "outputs": [],
   "source": [
    "I FINALLY GET THE NUMBER OF SHOW BY RELEASE YEAR. BUT I DO NOT KNOW HOW TO ACCESSING ONLY RELEASE YEAR 2000 AND MORE?\n",
    "SINCE I DO NOT KNOW WHAT TYPE OF THIS OUTPUT. IS IT A DATAFRAME, OR LIST, OR WHAT. \n",
    "WHEN I TRIED TO ACCESS [2000] PYTHON WAS CONFUSE BECAUSE IT CAN BE INDEX= 2000 OR VALUE BY 2000? \n",
    "SO I TRIED ANOTHER WAY. "
   ]
  },
  {
   "cell_type": "code",
   "execution_count": 41,
   "id": "23b7a4b1",
   "metadata": {},
   "outputs": [],
   "source": [
    "#cross=netflix_file.groupby('release_year')['show_id'].count()pivot = netflix_file.pivot_table(index =['release_year'][2000:2023], values = cross, aggfunc ='sum')"
   ]
  },
  {
   "cell_type": "code",
   "execution_count": 42,
   "id": "15a4e16e",
   "metadata": {},
   "outputs": [],
   "source": [
    "#cross=netflix_file.groupby(['release_year','show_id']).count()\n",
    "#cross"
   ]
  },
  {
   "cell_type": "code",
   "execution_count": 43,
   "id": "a76752c9",
   "metadata": {
    "scrolled": true
   },
   "outputs": [
    {
     "data": {
      "text/html": [
       "<div>\n",
       "<style scoped>\n",
       "    .dataframe tbody tr th:only-of-type {\n",
       "        vertical-align: middle;\n",
       "    }\n",
       "\n",
       "    .dataframe tbody tr th {\n",
       "        vertical-align: top;\n",
       "    }\n",
       "\n",
       "    .dataframe thead th {\n",
       "        text-align: right;\n",
       "    }\n",
       "</style>\n",
       "<table border=\"1\" class=\"dataframe\">\n",
       "  <thead>\n",
       "    <tr style=\"text-align: right;\">\n",
       "      <th></th>\n",
       "      <th>show_id</th>\n",
       "      <th>type</th>\n",
       "      <th>title</th>\n",
       "      <th>director</th>\n",
       "      <th>cast</th>\n",
       "      <th>country</th>\n",
       "      <th>date_added</th>\n",
       "      <th>release_year</th>\n",
       "      <th>rating</th>\n",
       "      <th>duration</th>\n",
       "      <th>listed_in</th>\n",
       "      <th>description</th>\n",
       "      <th>year_added</th>\n",
       "      <th>duration_trim</th>\n",
       "    </tr>\n",
       "  </thead>\n",
       "  <tbody>\n",
       "    <tr>\n",
       "      <th>755</th>\n",
       "      <td>s756</td>\n",
       "      <td>Movie</td>\n",
       "      <td>Kitty Love: An Homage to Cats</td>\n",
       "      <td>NaN</td>\n",
       "      <td>Nicolette Kluijver</td>\n",
       "      <td>Netherlands</td>\n",
       "      <td>2021-06-05</td>\n",
       "      <td>2021</td>\n",
       "      <td>TV-G</td>\n",
       "      <td>61 min</td>\n",
       "      <td>Children &amp; Family Movies, Documentaries, Inter...</td>\n",
       "      <td>Famous feline Abatutu presents this charming c...</td>\n",
       "      <td>2021</td>\n",
       "      <td>61</td>\n",
       "    </tr>\n",
       "    <tr>\n",
       "      <th>826</th>\n",
       "      <td>s827</td>\n",
       "      <td>Movie</td>\n",
       "      <td>Bo Burnham: Inside</td>\n",
       "      <td>Bo Burnham</td>\n",
       "      <td>Bo Burnham</td>\n",
       "      <td>United States</td>\n",
       "      <td>2021-05-30</td>\n",
       "      <td>2021</td>\n",
       "      <td>TV-MA</td>\n",
       "      <td>88 min</td>\n",
       "      <td>Stand-Up Comedy</td>\n",
       "      <td>A new comedy special shot and performed by Bo ...</td>\n",
       "      <td>2021</td>\n",
       "      <td>88</td>\n",
       "    </tr>\n",
       "    <tr>\n",
       "      <th>768</th>\n",
       "      <td>s769</td>\n",
       "      <td>Movie</td>\n",
       "      <td>Dancing Queens</td>\n",
       "      <td>Helena Bergström</td>\n",
       "      <td>Molly Nutley, Fredrik Quiñones, Marie Göranzon...</td>\n",
       "      <td>Sweden</td>\n",
       "      <td>2021-06-03</td>\n",
       "      <td>2021</td>\n",
       "      <td>TV-MA</td>\n",
       "      <td>111 min</td>\n",
       "      <td>Comedies, Dramas, International Movies</td>\n",
       "      <td>A dancer who gets a job cleaning at a struggli...</td>\n",
       "      <td>2021</td>\n",
       "      <td>111</td>\n",
       "    </tr>\n",
       "    <tr>\n",
       "      <th>770</th>\n",
       "      <td>s771</td>\n",
       "      <td>Movie</td>\n",
       "      <td>Myriam Fares: The Journey</td>\n",
       "      <td>Myriam Fares</td>\n",
       "      <td>Myriam Fares</td>\n",
       "      <td>United Arab Emirates</td>\n",
       "      <td>2021-06-03</td>\n",
       "      <td>2021</td>\n",
       "      <td>TV-14</td>\n",
       "      <td>72 min</td>\n",
       "      <td>Documentaries, International Movies, Music &amp; M...</td>\n",
       "      <td>From pregnancy to album preparations, Lebanese...</td>\n",
       "      <td>2021</td>\n",
       "      <td>72</td>\n",
       "    </tr>\n",
       "    <tr>\n",
       "      <th>771</th>\n",
       "      <td>s772</td>\n",
       "      <td>TV Show</td>\n",
       "      <td>Pretty Guardian Sailor Moon Eternal The Movie</td>\n",
       "      <td>Chiaki Kon</td>\n",
       "      <td>Kotono Mitsuishi, Hisako Kanemoto, Rina Satou,...</td>\n",
       "      <td>NaN</td>\n",
       "      <td>2021-06-03</td>\n",
       "      <td>2021</td>\n",
       "      <td>TV-14</td>\n",
       "      <td>1 Season</td>\n",
       "      <td>TV Shows</td>\n",
       "      <td>When a dark power enshrouds the Earth after a ...</td>\n",
       "      <td>2021</td>\n",
       "      <td>1</td>\n",
       "    </tr>\n",
       "  </tbody>\n",
       "</table>\n",
       "</div>"
      ],
      "text/plain": [
       "    show_id     type                                          title  \\\n",
       "755    s756    Movie                  Kitty Love: An Homage to Cats   \n",
       "826    s827    Movie                             Bo Burnham: Inside   \n",
       "768    s769    Movie                                 Dancing Queens   \n",
       "770    s771    Movie                      Myriam Fares: The Journey   \n",
       "771    s772  TV Show  Pretty Guardian Sailor Moon Eternal The Movie   \n",
       "\n",
       "             director                                               cast  \\\n",
       "755               NaN                                 Nicolette Kluijver   \n",
       "826        Bo Burnham                                         Bo Burnham   \n",
       "768  Helena Bergström  Molly Nutley, Fredrik Quiñones, Marie Göranzon...   \n",
       "770      Myriam Fares                                       Myriam Fares   \n",
       "771        Chiaki Kon  Kotono Mitsuishi, Hisako Kanemoto, Rina Satou,...   \n",
       "\n",
       "                  country date_added  release_year rating  duration  \\\n",
       "755           Netherlands 2021-06-05          2021   TV-G    61 min   \n",
       "826         United States 2021-05-30          2021  TV-MA    88 min   \n",
       "768                Sweden 2021-06-03          2021  TV-MA   111 min   \n",
       "770  United Arab Emirates 2021-06-03          2021  TV-14    72 min   \n",
       "771                   NaN 2021-06-03          2021  TV-14  1 Season   \n",
       "\n",
       "                                             listed_in  \\\n",
       "755  Children & Family Movies, Documentaries, Inter...   \n",
       "826                                    Stand-Up Comedy   \n",
       "768             Comedies, Dramas, International Movies   \n",
       "770  Documentaries, International Movies, Music & M...   \n",
       "771                                           TV Shows   \n",
       "\n",
       "                                           description  year_added  \\\n",
       "755  Famous feline Abatutu presents this charming c...        2021   \n",
       "826  A new comedy special shot and performed by Bo ...        2021   \n",
       "768  A dancer who gets a job cleaning at a struggli...        2021   \n",
       "770  From pregnancy to album preparations, Lebanese...        2021   \n",
       "771  When a dark power enshrouds the Earth after a ...        2021   \n",
       "\n",
       "     duration_trim  \n",
       "755             61  \n",
       "826             88  \n",
       "768            111  \n",
       "770             72  \n",
       "771              1  "
      ]
     },
     "execution_count": 43,
     "metadata": {},
     "output_type": "execute_result"
    }
   ],
   "source": [
    "release2000= netflix_file.drop(netflix_file[netflix_file['release_year'] < 2000].index)\n",
    "release2000=release2000.sort_values(by=['release_year'], ascending = False)\n",
    "release2000.head()"
   ]
  },
  {
   "cell_type": "code",
   "execution_count": 54,
   "id": "e21acba0",
   "metadata": {
    "scrolled": false
   },
   "outputs": [
    {
     "data": {
      "image/png": "[encoded data removed]",
      "text/plain": [
       "<Figure size 640x480 with 1 Axes>"
      ]
     },
     "metadata": {},
     "output_type": "display_data"
    }
   ],
   "source": [
    "cross = pd.crosstab(index = release2000['release_year'], columns = release2000['type'])\n",
    "cross.plot(kind='bar', stacked=False)\n",
    "plt.show()\n",
    "#print(cross)"
   ]
  },
  {
   "cell_type": "code",
   "execution_count": 55,
   "id": "4a26b48a",
   "metadata": {
    "scrolled": true
   },
   "outputs": [
    {
     "data": {
      "image/png": "[encoded data removed]",
      "text/plain": [
       "<Figure size 640x480 with 1 Axes>"
      ]
     },
     "metadata": {},
     "output_type": "display_data"
    }
   ],
   "source": [
    "# I got this code from google, but I do not really understand those parameters. (need to learn more about it)\n",
    "tab= pd.crosstab(release2000['release_year'], release2000['type'],margins=True).sort_values(\"All\", ascending=True)\n",
    "tab = tab.drop('All',axis=1)\n",
    "tab = tab.drop('All',axis=0)\n",
    "tab.plot(kind='bar', stacked=False)\n",
    "plt.show()"
   ]
  },
  {
   "cell_type": "code",
   "execution_count": 47,
   "id": "0de208ad",
   "metadata": {},
   "outputs": [
    {
     "name": "stdout",
     "output_type": "stream",
     "text": [
      "type          Movie  TV Show\n",
      "release_year                \n",
      "2000             33        4\n",
      "2001             40        5\n",
      "2002             44        7\n",
      "2003             51        8\n",
      "2004             55        9\n",
      "2005             67       13\n",
      "2007             74       14\n",
      "2006             82       14\n",
      "2008            113       22\n",
      "2009            118       34\n",
      "2011            145       40\n",
      "2010            153       39\n",
      "2012            173       63\n",
      "2013            225       61\n",
      "2014            264       88\n",
      "2015            396      159\n",
      "2021            277      315\n",
      "2016            658      243\n",
      "2020            517      436\n",
      "2017            765      265\n",
      "2019            633      397\n",
      "2018            767      379\n"
     ]
    }
   ],
   "source": [
    "print(tab)"
   ]
  },
  {
   "cell_type": "code",
   "execution_count": 48,
   "id": "7041cc66",
   "metadata": {},
   "outputs": [],
   "source": [
    "#cross = pd.crosstab(index = netflix_file['release_year'], columns = netflix_file['type'])"
   ]
  },
  {
   "cell_type": "code",
   "execution_count": 49,
   "id": "2df6be8e",
   "metadata": {},
   "outputs": [
    {
     "data": {
      "text/plain": [
       "<Axes: xlabel='release_year'>"
      ]
     },
     "execution_count": 49,
     "metadata": {},
     "output_type": "execute_result"
    },
    {
     "data": {
      "image/png": "[encoded data removed]",
      "text/plain": [
       "<Figure size 640x480 with 1 Axes>"
      ]
     },
     "metadata": {},
     "output_type": "display_data"
    }
   ],
   "source": [
    "cross.plot(kind = 'line')"
   ]
  },
  {
   "cell_type": "markdown",
   "id": "9597f46a",
   "metadata": {},
   "source": [
    "## 3) TOP 5 MOVIES HAVE A LONGEST DURATION\n",
    "### WHAT ARE THE TOP 5 MOVIE TITLE THAT HAVE THE LONGEST DURATION?"
   ]
  },
  {
   "cell_type": "code",
   "execution_count": 56,
   "id": "cda96a89",
   "metadata": {
    "scrolled": true
   },
   "outputs": [
    {
     "data": {
      "text/html": [
       "<div>\n",
       "<style scoped>\n",
       "    .dataframe tbody tr th:only-of-type {\n",
       "        vertical-align: middle;\n",
       "    }\n",
       "\n",
       "    .dataframe tbody tr th {\n",
       "        vertical-align: top;\n",
       "    }\n",
       "\n",
       "    .dataframe thead th {\n",
       "        text-align: right;\n",
       "    }\n",
       "</style>\n",
       "<table border=\"1\" class=\"dataframe\">\n",
       "  <thead>\n",
       "    <tr style=\"text-align: right;\">\n",
       "      <th></th>\n",
       "      <th>show_id</th>\n",
       "      <th>type</th>\n",
       "      <th>title</th>\n",
       "      <th>director</th>\n",
       "      <th>cast</th>\n",
       "      <th>country</th>\n",
       "      <th>date_added</th>\n",
       "      <th>release_year</th>\n",
       "      <th>rating</th>\n",
       "      <th>duration</th>\n",
       "      <th>listed_in</th>\n",
       "      <th>description</th>\n",
       "      <th>year_added</th>\n",
       "      <th>duration_trim</th>\n",
       "    </tr>\n",
       "  </thead>\n",
       "  <tbody>\n",
       "    <tr>\n",
       "      <th>0</th>\n",
       "      <td>s1</td>\n",
       "      <td>Movie</td>\n",
       "      <td>Dick Johnson Is Dead</td>\n",
       "      <td>Kirsten Johnson</td>\n",
       "      <td>NaN</td>\n",
       "      <td>United States</td>\n",
       "      <td>2021-09-25</td>\n",
       "      <td>2020</td>\n",
       "      <td>PG-13</td>\n",
       "      <td>90 min</td>\n",
       "      <td>Documentaries</td>\n",
       "      <td>As her father nears the end of his life, filmm...</td>\n",
       "      <td>2021</td>\n",
       "      <td>90</td>\n",
       "    </tr>\n",
       "    <tr>\n",
       "      <th>1</th>\n",
       "      <td>s2</td>\n",
       "      <td>TV Show</td>\n",
       "      <td>Blood &amp; Water</td>\n",
       "      <td>NaN</td>\n",
       "      <td>Ama Qamata, Khosi Ngema, Gail Mabalane, Thaban...</td>\n",
       "      <td>South Africa</td>\n",
       "      <td>2021-09-24</td>\n",
       "      <td>2021</td>\n",
       "      <td>TV-MA</td>\n",
       "      <td>2 Seasons</td>\n",
       "      <td>International TV Shows, TV Dramas, TV Mysteries</td>\n",
       "      <td>After crossing paths at a party, a Cape Town t...</td>\n",
       "      <td>2021</td>\n",
       "      <td>2</td>\n",
       "    </tr>\n",
       "    <tr>\n",
       "      <th>2</th>\n",
       "      <td>s3</td>\n",
       "      <td>TV Show</td>\n",
       "      <td>Ganglands</td>\n",
       "      <td>Julien Leclercq</td>\n",
       "      <td>Sami Bouajila, Tracy Gotoas, Samuel Jouy, Nabi...</td>\n",
       "      <td>NaN</td>\n",
       "      <td>2021-09-24</td>\n",
       "      <td>2021</td>\n",
       "      <td>TV-MA</td>\n",
       "      <td>1 Season</td>\n",
       "      <td>Crime TV Shows, International TV Shows, TV Act...</td>\n",
       "      <td>To protect his family from a powerful drug lor...</td>\n",
       "      <td>2021</td>\n",
       "      <td>1</td>\n",
       "    </tr>\n",
       "    <tr>\n",
       "      <th>3</th>\n",
       "      <td>s4</td>\n",
       "      <td>TV Show</td>\n",
       "      <td>Jailbirds New Orleans</td>\n",
       "      <td>NaN</td>\n",
       "      <td>NaN</td>\n",
       "      <td>NaN</td>\n",
       "      <td>2021-09-24</td>\n",
       "      <td>2021</td>\n",
       "      <td>TV-MA</td>\n",
       "      <td>1 Season</td>\n",
       "      <td>Docuseries, Reality TV</td>\n",
       "      <td>Feuds, flirtations and toilet talk go down amo...</td>\n",
       "      <td>2021</td>\n",
       "      <td>1</td>\n",
       "    </tr>\n",
       "    <tr>\n",
       "      <th>4</th>\n",
       "      <td>s5</td>\n",
       "      <td>TV Show</td>\n",
       "      <td>Kota Factory</td>\n",
       "      <td>NaN</td>\n",
       "      <td>Mayur More, Jitendra Kumar, Ranjan Raj, Alam K...</td>\n",
       "      <td>India</td>\n",
       "      <td>2021-09-24</td>\n",
       "      <td>2021</td>\n",
       "      <td>TV-MA</td>\n",
       "      <td>2 Seasons</td>\n",
       "      <td>International TV Shows, Romantic TV Shows, TV ...</td>\n",
       "      <td>In a city of coaching centers known to train I...</td>\n",
       "      <td>2021</td>\n",
       "      <td>2</td>\n",
       "    </tr>\n",
       "  </tbody>\n",
       "</table>\n",
       "</div>"
      ],
      "text/plain": [
       "  show_id     type                  title         director  \\\n",
       "0      s1    Movie   Dick Johnson Is Dead  Kirsten Johnson   \n",
       "1      s2  TV Show          Blood & Water              NaN   \n",
       "2      s3  TV Show              Ganglands  Julien Leclercq   \n",
       "3      s4  TV Show  Jailbirds New Orleans              NaN   \n",
       "4      s5  TV Show           Kota Factory              NaN   \n",
       "\n",
       "                                                cast        country  \\\n",
       "0                                                NaN  United States   \n",
       "1  Ama Qamata, Khosi Ngema, Gail Mabalane, Thaban...   South Africa   \n",
       "2  Sami Bouajila, Tracy Gotoas, Samuel Jouy, Nabi...            NaN   \n",
       "3                                                NaN            NaN   \n",
       "4  Mayur More, Jitendra Kumar, Ranjan Raj, Alam K...          India   \n",
       "\n",
       "  date_added  release_year rating   duration  \\\n",
       "0 2021-09-25          2020  PG-13     90 min   \n",
       "1 2021-09-24          2021  TV-MA  2 Seasons   \n",
       "2 2021-09-24          2021  TV-MA   1 Season   \n",
       "3 2021-09-24          2021  TV-MA   1 Season   \n",
       "4 2021-09-24          2021  TV-MA  2 Seasons   \n",
       "\n",
       "                                           listed_in  \\\n",
       "0                                      Documentaries   \n",
       "1    International TV Shows, TV Dramas, TV Mysteries   \n",
       "2  Crime TV Shows, International TV Shows, TV Act...   \n",
       "3                             Docuseries, Reality TV   \n",
       "4  International TV Shows, Romantic TV Shows, TV ...   \n",
       "\n",
       "                                         description  year_added  \\\n",
       "0  As her father nears the end of his life, filmm...        2021   \n",
       "1  After crossing paths at a party, a Cape Town t...        2021   \n",
       "2  To protect his family from a powerful drug lor...        2021   \n",
       "3  Feuds, flirtations and toilet talk go down amo...        2021   \n",
       "4  In a city of coaching centers known to train I...        2021   \n",
       "\n",
       "   duration_trim  \n",
       "0             90  \n",
       "1              2  \n",
       "2              1  \n",
       "3              1  \n",
       "4              2  "
      ]
     },
     "execution_count": 56,
     "metadata": {},
     "output_type": "execute_result"
    }
   ],
   "source": [
    "netflix_file.head()"
   ]
  },
  {
   "cell_type": "code",
   "execution_count": 57,
   "id": "998ceee7",
   "metadata": {},
   "outputs": [],
   "source": [
    "netflix_file_dur = netflix_file.sort_values(by=['duration_trim'], ascending = False)"
   ]
  },
  {
   "cell_type": "code",
   "execution_count": 58,
   "id": "73bf8efc",
   "metadata": {},
   "outputs": [
    {
     "data": {
      "text/html": [
       "<div>\n",
       "<style scoped>\n",
       "    .dataframe tbody tr th:only-of-type {\n",
       "        vertical-align: middle;\n",
       "    }\n",
       "\n",
       "    .dataframe tbody tr th {\n",
       "        vertical-align: top;\n",
       "    }\n",
       "\n",
       "    .dataframe thead th {\n",
       "        text-align: right;\n",
       "    }\n",
       "</style>\n",
       "<table border=\"1\" class=\"dataframe\">\n",
       "  <thead>\n",
       "    <tr style=\"text-align: right;\">\n",
       "      <th></th>\n",
       "      <th>show_id</th>\n",
       "      <th>type</th>\n",
       "      <th>title</th>\n",
       "      <th>director</th>\n",
       "      <th>cast</th>\n",
       "      <th>country</th>\n",
       "      <th>date_added</th>\n",
       "      <th>release_year</th>\n",
       "      <th>rating</th>\n",
       "      <th>duration</th>\n",
       "      <th>listed_in</th>\n",
       "      <th>description</th>\n",
       "      <th>year_added</th>\n",
       "      <th>duration_trim</th>\n",
       "    </tr>\n",
       "  </thead>\n",
       "  <tbody>\n",
       "    <tr>\n",
       "      <th>4253</th>\n",
       "      <td>s4254</td>\n",
       "      <td>Movie</td>\n",
       "      <td>Black Mirror: Bandersnatch</td>\n",
       "      <td>NaN</td>\n",
       "      <td>Fionn Whitehead, Will Poulter, Craig Parkinson...</td>\n",
       "      <td>United States</td>\n",
       "      <td>2018-12-28</td>\n",
       "      <td>2018</td>\n",
       "      <td>TV-MA</td>\n",
       "      <td>312 min</td>\n",
       "      <td>Dramas, International Movies, Sci-Fi &amp; Fantasy</td>\n",
       "      <td>In 1984, a young programmer begins to question...</td>\n",
       "      <td>2018</td>\n",
       "      <td>312</td>\n",
       "    </tr>\n",
       "    <tr>\n",
       "      <th>717</th>\n",
       "      <td>s718</td>\n",
       "      <td>Movie</td>\n",
       "      <td>Headspace: Unwind Your Mind</td>\n",
       "      <td>NaN</td>\n",
       "      <td>Andy Puddicombe, Evelyn Lewis Prieto, Ginger D...</td>\n",
       "      <td>NaN</td>\n",
       "      <td>2021-06-15</td>\n",
       "      <td>2021</td>\n",
       "      <td>TV-G</td>\n",
       "      <td>273 min</td>\n",
       "      <td>Documentaries</td>\n",
       "      <td>Do you want to relax, meditate or sleep deeply...</td>\n",
       "      <td>2021</td>\n",
       "      <td>273</td>\n",
       "    </tr>\n",
       "    <tr>\n",
       "      <th>2491</th>\n",
       "      <td>s2492</td>\n",
       "      <td>Movie</td>\n",
       "      <td>The School of Mischief</td>\n",
       "      <td>Houssam El-Din Mustafa</td>\n",
       "      <td>Suhair El-Babili, Adel Emam, Saeed Saleh, Youn...</td>\n",
       "      <td>Egypt</td>\n",
       "      <td>2020-05-21</td>\n",
       "      <td>1973</td>\n",
       "      <td>TV-14</td>\n",
       "      <td>253 min</td>\n",
       "      <td>Comedies, Dramas, International Movies</td>\n",
       "      <td>A high school teacher volunteers to transform ...</td>\n",
       "      <td>2020</td>\n",
       "      <td>253</td>\n",
       "    </tr>\n",
       "    <tr>\n",
       "      <th>2487</th>\n",
       "      <td>s2488</td>\n",
       "      <td>Movie</td>\n",
       "      <td>No Longer kids</td>\n",
       "      <td>Samir Al Asfory</td>\n",
       "      <td>Said Saleh, Hassan Moustafa, Ahmed Zaki, Youne...</td>\n",
       "      <td>Egypt</td>\n",
       "      <td>2020-05-21</td>\n",
       "      <td>1979</td>\n",
       "      <td>TV-14</td>\n",
       "      <td>237 min</td>\n",
       "      <td>Comedies, Dramas, International Movies</td>\n",
       "      <td>Hoping to prevent their father from skipping t...</td>\n",
       "      <td>2020</td>\n",
       "      <td>237</td>\n",
       "    </tr>\n",
       "    <tr>\n",
       "      <th>2484</th>\n",
       "      <td>s2485</td>\n",
       "      <td>Movie</td>\n",
       "      <td>Lock Your Girls In</td>\n",
       "      <td>Fouad El-Mohandes</td>\n",
       "      <td>Fouad El-Mohandes, Sanaa Younes, Sherihan, Ahm...</td>\n",
       "      <td>NaN</td>\n",
       "      <td>2020-05-21</td>\n",
       "      <td>1982</td>\n",
       "      <td>TV-PG</td>\n",
       "      <td>233 min</td>\n",
       "      <td>Comedies, International Movies, Romantic Movies</td>\n",
       "      <td>A widower believes he must marry off his three...</td>\n",
       "      <td>2020</td>\n",
       "      <td>233</td>\n",
       "    </tr>\n",
       "  </tbody>\n",
       "</table>\n",
       "</div>"
      ],
      "text/plain": [
       "     show_id   type                        title                director  \\\n",
       "4253   s4254  Movie   Black Mirror: Bandersnatch                     NaN   \n",
       "717     s718  Movie  Headspace: Unwind Your Mind                     NaN   \n",
       "2491   s2492  Movie       The School of Mischief  Houssam El-Din Mustafa   \n",
       "2487   s2488  Movie               No Longer kids         Samir Al Asfory   \n",
       "2484   s2485  Movie           Lock Your Girls In       Fouad El-Mohandes   \n",
       "\n",
       "                                                   cast        country  \\\n",
       "4253  Fionn Whitehead, Will Poulter, Craig Parkinson...  United States   \n",
       "717   Andy Puddicombe, Evelyn Lewis Prieto, Ginger D...            NaN   \n",
       "2491  Suhair El-Babili, Adel Emam, Saeed Saleh, Youn...          Egypt   \n",
       "2487  Said Saleh, Hassan Moustafa, Ahmed Zaki, Youne...          Egypt   \n",
       "2484  Fouad El-Mohandes, Sanaa Younes, Sherihan, Ahm...            NaN   \n",
       "\n",
       "     date_added  release_year rating duration  \\\n",
       "4253 2018-12-28          2018  TV-MA  312 min   \n",
       "717  2021-06-15          2021   TV-G  273 min   \n",
       "2491 2020-05-21          1973  TV-14  253 min   \n",
       "2487 2020-05-21          1979  TV-14  237 min   \n",
       "2484 2020-05-21          1982  TV-PG  233 min   \n",
       "\n",
       "                                            listed_in  \\\n",
       "4253   Dramas, International Movies, Sci-Fi & Fantasy   \n",
       "717                                     Documentaries   \n",
       "2491           Comedies, Dramas, International Movies   \n",
       "2487           Comedies, Dramas, International Movies   \n",
       "2484  Comedies, International Movies, Romantic Movies   \n",
       "\n",
       "                                            description  year_added  \\\n",
       "4253  In 1984, a young programmer begins to question...        2018   \n",
       "717   Do you want to relax, meditate or sleep deeply...        2021   \n",
       "2491  A high school teacher volunteers to transform ...        2020   \n",
       "2487  Hoping to prevent their father from skipping t...        2020   \n",
       "2484  A widower believes he must marry off his three...        2020   \n",
       "\n",
       "      duration_trim  \n",
       "4253            312  \n",
       "717             273  \n",
       "2491            253  \n",
       "2487            237  \n",
       "2484            233  "
      ]
     },
     "execution_count": 58,
     "metadata": {},
     "output_type": "execute_result"
    }
   ],
   "source": [
    "netflix_file_dur.head()"
   ]
  },
  {
   "cell_type": "code",
   "execution_count": 59,
   "id": "3b49b387",
   "metadata": {},
   "outputs": [
    {
     "data": {
      "text/plain": [
       "[312, 273, 253, 237, 233]"
      ]
     },
     "execution_count": 59,
     "metadata": {},
     "output_type": "execute_result"
    }
   ],
   "source": [
    "#I don't know how to subsetting the dataframe, so I subset it and store it to List type instead.\n",
    "top5moviedur = netflix_file_dur['duration_trim'][0:5].tolist()\n",
    "top5moviedur"
   ]
  },
  {
   "cell_type": "code",
   "execution_count": 61,
   "id": "ee886289",
   "metadata": {},
   "outputs": [],
   "source": [
    "top5movietitle = netflix_file_dur['title'][0:5].tolist()\n",
    "top5movietitle"
   ]
  },
  {
   "cell_type": "code",
   "execution_count": 64,
   "id": "4c75658d",
   "metadata": {
    "scrolled": true
   },
   "outputs": [
    {
     "data": {
      "image/png": "[encoded data removed]",
      "text/plain": [
       "<Figure size 640x480 with 1 Axes>"
      ]
     },
     "metadata": {},
     "output_type": "display_data"
    }
   ],
   "source": [
    "plt.plot(top5movietitle, top5moviedur)\n",
    "plt.show()"
   ]
  },
  {
   "cell_type": "code",
   "execution_count": 66,
   "id": "e7362948",
   "metadata": {},
   "outputs": [
    {
     "name": "stdout",
     "output_type": "stream",
     "text": [
      "TOP 5 MOVIE WITH THE LONGEST DURATION IN NETFLIX\n"
     ]
    },
    {
     "data": {
      "image/png": "[encoded data removed]",
      "text/plain": [
       "<Figure size 640x480 with 1 Axes>"
      ]
     },
     "metadata": {},
     "output_type": "display_data"
    }
   ],
   "source": [
    "plt.bar(top5movietitle, top5moviedur)\n",
    "print(\"TOP 5 MOVIE WITH THE LONGEST DURATION IN NETFLIX\")\n",
    "plt.show()"
   ]
  },
  {
   "cell_type": "markdown",
   "id": "7d5a90d4",
   "metadata": {},
   "source": [
    "I NEED HELP, I DON'T KNOW HOW TO ROTATE THE X LABEL TO BECOME A VERTICAL. I WANT IT TO BE CLEAR AND READ-ABLE"
   ]
  },
  {
   "cell_type": "markdown",
   "id": "262ec6ab",
   "metadata": {},
   "source": [
    "## TOP 5 TV SHOW WITH THE MOST EPISODE"
   ]
  },
  {
   "cell_type": "code",
   "execution_count": null,
   "id": "4481d6c0",
   "metadata": {},
   "outputs": [],
   "source": [
    "netflix_file.head()"
   ]
  },
  {
   "cell_type": "code",
   "execution_count": null,
   "id": "14dc2892",
   "metadata": {},
   "outputs": [],
   "source": [
    "#top5tvshow = netflix_file.sort_values(by=['type'], ascending = False)\n",
    "#top5tvshow.head()"
   ]
  },
  {
   "cell_type": "code",
   "execution_count": 68,
   "id": "763a6082",
   "metadata": {},
   "outputs": [
    {
     "data": {
      "text/html": [
       "<div>\n",
       "<style scoped>\n",
       "    .dataframe tbody tr th:only-of-type {\n",
       "        vertical-align: middle;\n",
       "    }\n",
       "\n",
       "    .dataframe tbody tr th {\n",
       "        vertical-align: top;\n",
       "    }\n",
       "\n",
       "    .dataframe thead th {\n",
       "        text-align: right;\n",
       "    }\n",
       "</style>\n",
       "<table border=\"1\" class=\"dataframe\">\n",
       "  <thead>\n",
       "    <tr style=\"text-align: right;\">\n",
       "      <th></th>\n",
       "      <th>show_id</th>\n",
       "      <th>type</th>\n",
       "      <th>title</th>\n",
       "      <th>director</th>\n",
       "      <th>cast</th>\n",
       "      <th>country</th>\n",
       "      <th>date_added</th>\n",
       "      <th>release_year</th>\n",
       "      <th>rating</th>\n",
       "      <th>duration</th>\n",
       "      <th>listed_in</th>\n",
       "      <th>description</th>\n",
       "      <th>year_added</th>\n",
       "      <th>duration_trim</th>\n",
       "    </tr>\n",
       "  </thead>\n",
       "  <tbody>\n",
       "    <tr>\n",
       "      <th>1</th>\n",
       "      <td>s2</td>\n",
       "      <td>TV Show</td>\n",
       "      <td>Blood &amp; Water</td>\n",
       "      <td>NaN</td>\n",
       "      <td>Ama Qamata, Khosi Ngema, Gail Mabalane, Thaban...</td>\n",
       "      <td>South Africa</td>\n",
       "      <td>2021-09-24</td>\n",
       "      <td>2021</td>\n",
       "      <td>TV-MA</td>\n",
       "      <td>2 Seasons</td>\n",
       "      <td>International TV Shows, TV Dramas, TV Mysteries</td>\n",
       "      <td>After crossing paths at a party, a Cape Town t...</td>\n",
       "      <td>2021</td>\n",
       "      <td>2</td>\n",
       "    </tr>\n",
       "    <tr>\n",
       "      <th>2</th>\n",
       "      <td>s3</td>\n",
       "      <td>TV Show</td>\n",
       "      <td>Ganglands</td>\n",
       "      <td>Julien Leclercq</td>\n",
       "      <td>Sami Bouajila, Tracy Gotoas, Samuel Jouy, Nabi...</td>\n",
       "      <td>NaN</td>\n",
       "      <td>2021-09-24</td>\n",
       "      <td>2021</td>\n",
       "      <td>TV-MA</td>\n",
       "      <td>1 Season</td>\n",
       "      <td>Crime TV Shows, International TV Shows, TV Act...</td>\n",
       "      <td>To protect his family from a powerful drug lor...</td>\n",
       "      <td>2021</td>\n",
       "      <td>1</td>\n",
       "    </tr>\n",
       "    <tr>\n",
       "      <th>3</th>\n",
       "      <td>s4</td>\n",
       "      <td>TV Show</td>\n",
       "      <td>Jailbirds New Orleans</td>\n",
       "      <td>NaN</td>\n",
       "      <td>NaN</td>\n",
       "      <td>NaN</td>\n",
       "      <td>2021-09-24</td>\n",
       "      <td>2021</td>\n",
       "      <td>TV-MA</td>\n",
       "      <td>1 Season</td>\n",
       "      <td>Docuseries, Reality TV</td>\n",
       "      <td>Feuds, flirtations and toilet talk go down amo...</td>\n",
       "      <td>2021</td>\n",
       "      <td>1</td>\n",
       "    </tr>\n",
       "    <tr>\n",
       "      <th>4</th>\n",
       "      <td>s5</td>\n",
       "      <td>TV Show</td>\n",
       "      <td>Kota Factory</td>\n",
       "      <td>NaN</td>\n",
       "      <td>Mayur More, Jitendra Kumar, Ranjan Raj, Alam K...</td>\n",
       "      <td>India</td>\n",
       "      <td>2021-09-24</td>\n",
       "      <td>2021</td>\n",
       "      <td>TV-MA</td>\n",
       "      <td>2 Seasons</td>\n",
       "      <td>International TV Shows, Romantic TV Shows, TV ...</td>\n",
       "      <td>In a city of coaching centers known to train I...</td>\n",
       "      <td>2021</td>\n",
       "      <td>2</td>\n",
       "    </tr>\n",
       "    <tr>\n",
       "      <th>5</th>\n",
       "      <td>s6</td>\n",
       "      <td>TV Show</td>\n",
       "      <td>Midnight Mass</td>\n",
       "      <td>Mike Flanagan</td>\n",
       "      <td>Kate Siegel, Zach Gilford, Hamish Linklater, H...</td>\n",
       "      <td>NaN</td>\n",
       "      <td>2021-09-24</td>\n",
       "      <td>2021</td>\n",
       "      <td>TV-MA</td>\n",
       "      <td>1 Season</td>\n",
       "      <td>TV Dramas, TV Horror, TV Mysteries</td>\n",
       "      <td>The arrival of a charismatic young priest brin...</td>\n",
       "      <td>2021</td>\n",
       "      <td>1</td>\n",
       "    </tr>\n",
       "  </tbody>\n",
       "</table>\n",
       "</div>"
      ],
      "text/plain": [
       "  show_id     type                  title         director  \\\n",
       "1      s2  TV Show          Blood & Water              NaN   \n",
       "2      s3  TV Show              Ganglands  Julien Leclercq   \n",
       "3      s4  TV Show  Jailbirds New Orleans              NaN   \n",
       "4      s5  TV Show           Kota Factory              NaN   \n",
       "5      s6  TV Show          Midnight Mass    Mike Flanagan   \n",
       "\n",
       "                                                cast       country date_added  \\\n",
       "1  Ama Qamata, Khosi Ngema, Gail Mabalane, Thaban...  South Africa 2021-09-24   \n",
       "2  Sami Bouajila, Tracy Gotoas, Samuel Jouy, Nabi...           NaN 2021-09-24   \n",
       "3                                                NaN           NaN 2021-09-24   \n",
       "4  Mayur More, Jitendra Kumar, Ranjan Raj, Alam K...         India 2021-09-24   \n",
       "5  Kate Siegel, Zach Gilford, Hamish Linklater, H...           NaN 2021-09-24   \n",
       "\n",
       "   release_year rating   duration  \\\n",
       "1          2021  TV-MA  2 Seasons   \n",
       "2          2021  TV-MA   1 Season   \n",
       "3          2021  TV-MA   1 Season   \n",
       "4          2021  TV-MA  2 Seasons   \n",
       "5          2021  TV-MA   1 Season   \n",
       "\n",
       "                                           listed_in  \\\n",
       "1    International TV Shows, TV Dramas, TV Mysteries   \n",
       "2  Crime TV Shows, International TV Shows, TV Act...   \n",
       "3                             Docuseries, Reality TV   \n",
       "4  International TV Shows, Romantic TV Shows, TV ...   \n",
       "5                 TV Dramas, TV Horror, TV Mysteries   \n",
       "\n",
       "                                         description  year_added  \\\n",
       "1  After crossing paths at a party, a Cape Town t...        2021   \n",
       "2  To protect his family from a powerful drug lor...        2021   \n",
       "3  Feuds, flirtations and toilet talk go down amo...        2021   \n",
       "4  In a city of coaching centers known to train I...        2021   \n",
       "5  The arrival of a charismatic young priest brin...        2021   \n",
       "\n",
       "   duration_trim  \n",
       "1              2  \n",
       "2              1  \n",
       "3              1  \n",
       "4              2  \n",
       "5              1  "
      ]
     },
     "execution_count": 68,
     "metadata": {},
     "output_type": "execute_result"
    }
   ],
   "source": [
    "tvshow= netflix_file.drop(netflix_file[netflix_file['type'] == \"Movie\"].index)\n",
    "tvshow.head()"
   ]
  },
  {
   "cell_type": "code",
   "execution_count": 69,
   "id": "69bcf872",
   "metadata": {},
   "outputs": [],
   "source": [
    "tvshow_dur = tvshow.sort_values(by=['duration_trim'], ascending = False)"
   ]
  },
  {
   "cell_type": "code",
   "execution_count": 70,
   "id": "25c79122",
   "metadata": {},
   "outputs": [
    {
     "data": {
      "text/html": [
       "<div>\n",
       "<style scoped>\n",
       "    .dataframe tbody tr th:only-of-type {\n",
       "        vertical-align: middle;\n",
       "    }\n",
       "\n",
       "    .dataframe tbody tr th {\n",
       "        vertical-align: top;\n",
       "    }\n",
       "\n",
       "    .dataframe thead th {\n",
       "        text-align: right;\n",
       "    }\n",
       "</style>\n",
       "<table border=\"1\" class=\"dataframe\">\n",
       "  <thead>\n",
       "    <tr style=\"text-align: right;\">\n",
       "      <th></th>\n",
       "      <th>show_id</th>\n",
       "      <th>type</th>\n",
       "      <th>title</th>\n",
       "      <th>director</th>\n",
       "      <th>cast</th>\n",
       "      <th>country</th>\n",
       "      <th>date_added</th>\n",
       "      <th>release_year</th>\n",
       "      <th>rating</th>\n",
       "      <th>duration</th>\n",
       "      <th>listed_in</th>\n",
       "      <th>description</th>\n",
       "      <th>year_added</th>\n",
       "      <th>duration_trim</th>\n",
       "    </tr>\n",
       "  </thead>\n",
       "  <tbody>\n",
       "    <tr>\n",
       "      <th>548</th>\n",
       "      <td>s549</td>\n",
       "      <td>TV Show</td>\n",
       "      <td>Grey's Anatomy</td>\n",
       "      <td>NaN</td>\n",
       "      <td>Ellen Pompeo, Sandra Oh, Katherine Heigl, Just...</td>\n",
       "      <td>United States</td>\n",
       "      <td>2021-07-03</td>\n",
       "      <td>2020</td>\n",
       "      <td>TV-14</td>\n",
       "      <td>17 Seasons</td>\n",
       "      <td>Romantic TV Shows, TV Dramas</td>\n",
       "      <td>Intern (and eventual resident) Meredith Grey f...</td>\n",
       "      <td>2021</td>\n",
       "      <td>17</td>\n",
       "    </tr>\n",
       "    <tr>\n",
       "      <th>2423</th>\n",
       "      <td>s2424</td>\n",
       "      <td>TV Show</td>\n",
       "      <td>Supernatural</td>\n",
       "      <td>Phil Sgriccia</td>\n",
       "      <td>Jared Padalecki, Jensen Ackles, Mark Sheppard,...</td>\n",
       "      <td>United States, Canada</td>\n",
       "      <td>2020-06-05</td>\n",
       "      <td>2019</td>\n",
       "      <td>TV-14</td>\n",
       "      <td>15 Seasons</td>\n",
       "      <td>Classic &amp; Cult TV, TV Action &amp; Adventure, TV H...</td>\n",
       "      <td>Siblings Dean and Sam crisscross the country, ...</td>\n",
       "      <td>2020</td>\n",
       "      <td>15</td>\n",
       "    </tr>\n",
       "    <tr>\n",
       "      <th>4798</th>\n",
       "      <td>s4799</td>\n",
       "      <td>TV Show</td>\n",
       "      <td>NCIS</td>\n",
       "      <td>NaN</td>\n",
       "      <td>Mark Harmon, Michael Weatherly, Pauley Perrett...</td>\n",
       "      <td>United States</td>\n",
       "      <td>2018-07-01</td>\n",
       "      <td>2017</td>\n",
       "      <td>TV-14</td>\n",
       "      <td>15 Seasons</td>\n",
       "      <td>Crime TV Shows, TV Dramas, TV Mysteries</td>\n",
       "      <td>Follow the quirky agents of the NCIS – the Nav...</td>\n",
       "      <td>2018</td>\n",
       "      <td>15</td>\n",
       "    </tr>\n",
       "    <tr>\n",
       "      <th>4220</th>\n",
       "      <td>s4221</td>\n",
       "      <td>TV Show</td>\n",
       "      <td>COMEDIANS of the world</td>\n",
       "      <td>NaN</td>\n",
       "      <td>Neal Brennan, Chris D'Elia, Nicole Byer, Nick ...</td>\n",
       "      <td>United States</td>\n",
       "      <td>2019-01-01</td>\n",
       "      <td>2019</td>\n",
       "      <td>TV-MA</td>\n",
       "      <td>13 Seasons</td>\n",
       "      <td>Stand-Up Comedy &amp; Talk Shows, TV Comedies</td>\n",
       "      <td>This global stand-up comedy series features a ...</td>\n",
       "      <td>2019</td>\n",
       "      <td>13</td>\n",
       "    </tr>\n",
       "    <tr>\n",
       "      <th>1354</th>\n",
       "      <td>s1355</td>\n",
       "      <td>TV Show</td>\n",
       "      <td>Heartland</td>\n",
       "      <td>NaN</td>\n",
       "      <td>Amber Marshall, Michelle Morgan, Graham Wardle...</td>\n",
       "      <td>Canada</td>\n",
       "      <td>2021-02-01</td>\n",
       "      <td>2019</td>\n",
       "      <td>TV-14</td>\n",
       "      <td>13 Seasons</td>\n",
       "      <td>TV Dramas</td>\n",
       "      <td>Spunky teenager Amy is reeling from the sudden...</td>\n",
       "      <td>2021</td>\n",
       "      <td>13</td>\n",
       "    </tr>\n",
       "  </tbody>\n",
       "</table>\n",
       "</div>"
      ],
      "text/plain": [
       "     show_id     type                   title       director  \\\n",
       "548     s549  TV Show          Grey's Anatomy            NaN   \n",
       "2423   s2424  TV Show            Supernatural  Phil Sgriccia   \n",
       "4798   s4799  TV Show                    NCIS            NaN   \n",
       "4220   s4221  TV Show  COMEDIANS of the world            NaN   \n",
       "1354   s1355  TV Show               Heartland            NaN   \n",
       "\n",
       "                                                   cast  \\\n",
       "548   Ellen Pompeo, Sandra Oh, Katherine Heigl, Just...   \n",
       "2423  Jared Padalecki, Jensen Ackles, Mark Sheppard,...   \n",
       "4798  Mark Harmon, Michael Weatherly, Pauley Perrett...   \n",
       "4220  Neal Brennan, Chris D'Elia, Nicole Byer, Nick ...   \n",
       "1354  Amber Marshall, Michelle Morgan, Graham Wardle...   \n",
       "\n",
       "                    country date_added  release_year rating    duration  \\\n",
       "548           United States 2021-07-03          2020  TV-14  17 Seasons   \n",
       "2423  United States, Canada 2020-06-05          2019  TV-14  15 Seasons   \n",
       "4798          United States 2018-07-01          2017  TV-14  15 Seasons   \n",
       "4220          United States 2019-01-01          2019  TV-MA  13 Seasons   \n",
       "1354                 Canada 2021-02-01          2019  TV-14  13 Seasons   \n",
       "\n",
       "                                              listed_in  \\\n",
       "548                        Romantic TV Shows, TV Dramas   \n",
       "2423  Classic & Cult TV, TV Action & Adventure, TV H...   \n",
       "4798            Crime TV Shows, TV Dramas, TV Mysteries   \n",
       "4220          Stand-Up Comedy & Talk Shows, TV Comedies   \n",
       "1354                                          TV Dramas   \n",
       "\n",
       "                                            description  year_added  \\\n",
       "548   Intern (and eventual resident) Meredith Grey f...        2021   \n",
       "2423  Siblings Dean and Sam crisscross the country, ...        2020   \n",
       "4798  Follow the quirky agents of the NCIS – the Nav...        2018   \n",
       "4220  This global stand-up comedy series features a ...        2019   \n",
       "1354  Spunky teenager Amy is reeling from the sudden...        2021   \n",
       "\n",
       "      duration_trim  \n",
       "548              17  \n",
       "2423             15  \n",
       "4798             15  \n",
       "4220             13  \n",
       "1354             13  "
      ]
     },
     "execution_count": 70,
     "metadata": {},
     "output_type": "execute_result"
    }
   ],
   "source": [
    "tvshow_dur.head()"
   ]
  },
  {
   "cell_type": "code",
   "execution_count": 71,
   "id": "21ec4a19",
   "metadata": {},
   "outputs": [],
   "source": [
    "top5tvshow_dur = tvshow_dur['duration_trim'][0:5].tolist()\n",
    "top5tvshow_dur"
   ]
  },
  {
   "cell_type": "code",
   "execution_count": 73,
   "id": "e7d05465",
   "metadata": {},
   "outputs": [
    {
     "data": {
      "text/plain": [
       "[\"Grey's Anatomy\",\n",
       " 'Supernatural',\n",
       " 'NCIS',\n",
       " 'COMEDIANS of the world',\n",
       " 'Heartland']"
      ]
     },
     "execution_count": 73,
     "metadata": {},
     "output_type": "execute_result"
    }
   ],
   "source": [
    "top5tvshow_title = tvshow_dur['title'][0:5].tolist()\n",
    "top5tvshow_title"
   ]
  },
  {
   "cell_type": "code",
   "execution_count": 75,
   "id": "889222ac",
   "metadata": {
    "scrolled": true
   },
   "outputs": [
    {
     "name": "stdout",
     "output_type": "stream",
     "text": [
      "TOP 5 TV SHOW WITH THE MOST SEASON ON NETFLIX\n"
     ]
    },
    {
     "data": {
      "image/png": "[encoded data removed]",
      "text/plain": [
       "<Figure size 640x480 with 1 Axes>"
      ]
     },
     "metadata": {},
     "output_type": "display_data"
    }
   ],
   "source": [
    "plt.bar(top5tvshow_title, top5tvshow_dur)\n",
    "print(\"TOP 5 TV SHOW WITH THE MOST SEASON ON NETFLIX\")\n",
    "plt.show()"
   ]
  },
  {
   "cell_type": "markdown",
   "id": "2dc72a8d",
   "metadata": {},
   "source": [
    "STILL I DON'T KNOW HOW TO TO ROTATE THE X LABEL TO BECOME A VERTICAL"
   ]
  },
  {
   "cell_type": "code",
   "execution_count": null,
   "id": "ffc3233c",
   "metadata": {},
   "outputs": [],
   "source": [
    "#top5tvshow_=plt.hist(tvshow_dur.title[0:5], bins = 5)\n"
   ]
  },
  {
   "cell_type": "code",
   "execution_count": null,
   "id": "73f53c8d",
   "metadata": {},
   "outputs": [],
   "source": [
    "#sns.set_style('white')\n",
    "#tvshow_dur.hist(figsize = [12,8])"
   ]
  },
  {
   "cell_type": "markdown",
   "id": "72af8377",
   "metadata": {},
   "source": [
    "# THE END\n",
    "## I REALISE THERE ARE MANY MISTAKES AND UNCLEAR CODES. I WILL IMPROVE MY SKILL MORE AND MORE. HOPEFULLY I CAN IMPROVE IT WAY BETTER THAN THIS."
   ]
  },
  {
   "cell_type": "code",
   "execution_count": null,
   "id": "5b57a916",
   "metadata": {},
   "outputs": [],
   "source": []
  }
 ],
 "metadata": {
  "kernelspec": {
   "display_name": "Python 3 (ipykernel)",
   "language": "python",
   "name": "python3"
  },
  "language_info": {
   "codemirror_mode": {
    "name": "ipython",
    "version": 3
   },
   "file_extension": ".py",
   "mimetype": "text/x-python",
   "name": "python",
   "nbconvert_exporter": "python",
   "pygments_lexer": "ipython3",
   "version": "3.10.9"
  }
 },
 "nbformat": 4,
 "nbformat_minor": 5
}
